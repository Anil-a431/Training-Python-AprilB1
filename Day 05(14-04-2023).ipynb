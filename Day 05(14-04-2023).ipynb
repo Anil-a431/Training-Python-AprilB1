{
 "cells": [
  {
   "cell_type": "markdown",
   "metadata": {},
   "source": [
    "### Looping Statements\n",
    "1. while\n",
    "2. for\n",
    "\n",
    "\n",
    "1. **while**:-\n",
    "```Python\n",
    "    while Boolean_Condition:\n",
    "        Statements\n",
    "        Increment / Decrement\n",
    "```"
   ]
  },
  {
   "cell_type": "code",
   "execution_count": 1,
   "metadata": {},
   "outputs": [
    {
     "name": "stdout",
     "output_type": "stream",
     "text": [
      "1  2  3  4  5  6  7  8  9  10  "
     ]
    }
   ],
   "source": [
    "start = 1\n",
    "end = 10\n",
    "while start <= end:\n",
    "    print(start,end  = '  ')\n",
    "    start += 1"
   ]
  },
  {
   "cell_type": "code",
   "execution_count": 2,
   "metadata": {},
   "outputs": [
    {
     "name": "stdout",
     "output_type": "stream",
     "text": [
      "10 9 8 7 6 5 4 3 2 1 "
     ]
    }
   ],
   "source": [
    "# 10 to 1\n",
    "start = 10\n",
    "end = 1\n",
    "while start >= end:\n",
    "    print(start,end  = ' ')\n",
    "    start -= 1"
   ]
  },
  {
   "cell_type": "code",
   "execution_count": 3,
   "metadata": {},
   "outputs": [
    {
     "name": "stdout",
     "output_type": "stream",
     "text": [
      "-5 -4 -3 -2 -1 0 1 2 3 4 5 "
     ]
    }
   ],
   "source": [
    "# -5 to 5\n",
    "start = -5\n",
    "end = 5\n",
    "while start <= end:\n",
    "    print(start,end  = ' ')\n",
    "    start += 1"
   ]
  },
  {
   "cell_type": "code",
   "execution_count": 4,
   "metadata": {},
   "outputs": [
    {
     "name": "stdout",
     "output_type": "stream",
     "text": [
      "10\n",
      "2 4 6 8 10 "
     ]
    }
   ],
   "source": [
    "# Let's see how to print the even numbers between 1 to n\n",
    "n = int(input())\n",
    "i = 1\n",
    "while i <= n:\n",
    "    if i % 2 == 0:\n",
    "        print(i,end = ' ')\n",
    "    i += 1"
   ]
  },
  {
   "cell_type": "code",
   "execution_count": 8,
   "metadata": {},
   "outputs": [
    {
     "name": "stdout",
     "output_type": "stream",
     "text": [
      "198\n",
      "1 2 3 6 9 11 18 22 33 66 99 198 "
     ]
    }
   ],
   "source": [
    "# Let's print the factors of the given number\n",
    "# 6 - 1 2 3 6\n",
    "# 12 - 1 2 3 4 6 12\n",
    "n = int(input())\n",
    "i = 1\n",
    "while i <= n:\n",
    "    if n % i == 0:\n",
    "        print(i,end = ' ')\n",
    "    i += 1"
   ]
  },
  {
   "cell_type": "code",
   "execution_count": 9,
   "metadata": {},
   "outputs": [],
   "source": [
    "# If you give a number as input and Print the digits of the given number \n",
    "# Example : \n",
    "# Input : 145\n",
    "# Output : 5 4 1 "
   ]
  },
  {
   "cell_type": "code",
   "execution_count": 10,
   "metadata": {},
   "outputs": [
    {
     "name": "stdout",
     "output_type": "stream",
     "text": [
      "3.3333333333333335\n",
      "3\n"
     ]
    }
   ],
   "source": [
    "x = 10\n",
    "y = 3\n",
    "print(x/y)\n",
    "print(x//y)"
   ]
  },
  {
   "cell_type": "code",
   "execution_count": 13,
   "metadata": {},
   "outputs": [
    {
     "name": "stdout",
     "output_type": "stream",
     "text": [
      "171717761\n",
      "1 6 7 7 1 7 1 7 1 "
     ]
    }
   ],
   "source": [
    "n = int(input())\n",
    "while n != 0:\n",
    "    r = n % 10\n",
    "    print(r,end = ' ')\n",
    "    n = n // 10"
   ]
  },
  {
   "cell_type": "code",
   "execution_count": 15,
   "metadata": {},
   "outputs": [
    {
     "name": "stdout",
     "output_type": "stream",
     "text": [
      "145\n",
      "4\n"
     ]
    }
   ],
   "source": [
    "# Example: Add only even digits of the given number\n",
    "# 1889 - 16\n",
    "# 145 - 4\n",
    "# 135 - 0\n",
    "n = int(input())\n",
    "s = 0\n",
    "while n != 0:\n",
    "    r = n % 10\n",
    "    if r % 2 == 0:\n",
    "        s += r\n",
    "    n = n // 10\n",
    "print(s)"
   ]
  },
  {
   "cell_type": "code",
   "execution_count": 16,
   "metadata": {},
   "outputs": [],
   "source": [
    "# 1889 - Nine Eight Eight One\n",
    "# 145 - Five Four One"
   ]
  },
  {
   "cell_type": "code",
   "execution_count": null,
   "metadata": {},
   "outputs": [],
   "source": [
    "n = int(input())\n",
    "while n != 0:\n",
    "    r = n % 10\n",
    "    if r == 0:\n",
    "        print('Zero ')\n",
    "    elif r == 1:\n",
    "        print('One ')\n",
    "    .......\n",
    "    n = n // 10"
   ]
  },
  {
   "cell_type": "code",
   "execution_count": null,
   "metadata": {},
   "outputs": [],
   "source": [
    "# 18712 - 1 , 8"
   ]
  },
  {
   "cell_type": "code",
   "execution_count": 17,
   "metadata": {},
   "outputs": [
    {
     "name": "stdout",
     "output_type": "stream",
     "text": [
      "674523\n",
      "7 2\n"
     ]
    }
   ],
   "source": [
    "n = int(input())\n",
    "max, min = 0, 9\n",
    "while n != 0:\n",
    "    r = n % 10\n",
    "    if r > max:\n",
    "        max = r\n",
    "    if r < min:\n",
    "        min = r \n",
    "    n = n // 10\n",
    "print(max,min)"
   ]
  },
  {
   "cell_type": "code",
   "execution_count": null,
   "metadata": {},
   "outputs": [],
   "source": [
    "# Second Highest digit given number - 6"
   ]
  }
 ],
 "metadata": {
  "kernelspec": {
   "display_name": "Python 3",
   "language": "python",
   "name": "python3"
  },
  "language_info": {
   "codemirror_mode": {
    "name": "ipython",
    "version": 3
   },
   "file_extension": ".py",
   "mimetype": "text/x-python",
   "name": "python",
   "nbconvert_exporter": "python",
   "pygments_lexer": "ipython3",
   "version": "3.8.3"
  }
 },
 "nbformat": 4,
 "nbformat_minor": 4
}
