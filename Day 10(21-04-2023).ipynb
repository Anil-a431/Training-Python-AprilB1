{
 "cells": [
  {
   "cell_type": "markdown",
   "metadata": {},
   "source": [
    "### Sorting Algorithm\n",
    "- Selection Sort\n",
    "- Insertion Sort\n",
    "- Merge Sort"
   ]
  },
  {
   "cell_type": "markdown",
   "metadata": {},
   "source": [
    "### Selection Sort\n",
    "- In Selection Sort, the smallest element is searched and place at the start of the list by swapping the smallest element found with the first element of the list and this process will be continued till the end of the loop\n",
    "- Time Complexity\n",
    "    - Best Case - O(n2)\n",
    "    - Worst Case - O(n2)\n",
    "    - Average Case - O(n2)\n",
    "- Algorithm:\n",
    "    - Given a List of elements with Values or data L0,L1.... LN-1,\n",
    "    - Find the smallest element from the given list\n",
    "    - Swap the smallest element(which is found) will be swapped with first item\n",
    "    - Repeat the same thing till the entire list is sorted"
   ]
  },
  {
   "cell_type": "code",
   "execution_count": 1,
   "metadata": {},
   "outputs": [],
   "source": [
    "def selection_sort(list1):\n",
    "    for i in range(len(list1)):\n",
    "        # Find the ith smallest element from the list\n",
    "        smallest_element = min(list1[i:])\n",
    "        # Here it will find the samallest element index\n",
    "        index_smallest_element = list1.index(smallest_element)\n",
    "        # Swap the ith smallest element with ith index\n",
    "        list1[i],list1[index_smallest_element] = list1[index_smallest_element],list1[i]\n",
    "    return list1"
   ]
  },
  {
   "cell_type": "code",
   "execution_count": 2,
   "metadata": {},
   "outputs": [
    {
     "data": {
      "text/plain": [
       "[1, 2, 3, 11, 19, 23, 28]"
      ]
     },
     "execution_count": 2,
     "metadata": {},
     "output_type": "execute_result"
    }
   ],
   "source": [
    "list1 = [1,19,23,2,11,3,28]\n",
    "selection_sort(list1)"
   ]
  },
  {
   "cell_type": "markdown",
   "metadata": {},
   "source": [
    "### Insertion Sort\n",
    "- In Insertion Sort is an In-place sorting, Here a sub-list is maintained which always sorted\n",
    "- The sorted sub-list grows untill your list is sorted\n",
    "- In each iteration, an element is picked from the original list(input list or unsorted list) and placed correctly into sorted by shifting the elements to the right\n",
    "- Time Complexity\n",
    "    - Best Case - O(n2)\n",
    "    - Average Case - O(n2)\n",
    "    - Worst Case - O(n2)"
   ]
  },
  {
   "cell_type": "code",
   "execution_count": 5,
   "metadata": {},
   "outputs": [],
   "source": [
    "def insertion_sort(list1):\n",
    "    # I Assume that 0th is sorted - Sub-list(sorted list)\n",
    "    # Rest of the list is unsorted\n",
    "    for i in range(1,len(list1)):\n",
    "        key = list1[i]\n",
    "        #print('Key Value = ',key)\n",
    "        j = i - 1\n",
    "        while j >= 0 and key < list1[j]:            \n",
    "            list1[j+1] = list1[j]\n",
    "            j -= 1\n",
    "        #print('list[j+1] ',list1[j+1])\n",
    "        list1[j+1] = key        \n",
    "    return list1"
   ]
  },
  {
   "cell_type": "code",
   "execution_count": 6,
   "metadata": {},
   "outputs": [
    {
     "name": "stdout",
     "output_type": "stream",
     "text": [
      "Key Value =  19\n",
      "list[j+1]  19\n",
      "Key Value =  23\n",
      "list[j+1]  23\n",
      "Key Value =  2\n",
      "list[j+1]  19\n",
      "Key Value =  11\n",
      "list[j+1]  19\n",
      "Key Value =  3\n",
      "list[j+1]  11\n",
      "Key Value =  28\n",
      "list[j+1]  28\n"
     ]
    },
    {
     "data": {
      "text/plain": [
       "[1, 2, 3, 11, 19, 23, 28]"
      ]
     },
     "execution_count": 6,
     "metadata": {},
     "output_type": "execute_result"
    }
   ],
   "source": [
    "list1 = [1,19,23,2,11,3,28]\n",
    "insertion_sort(list1)"
   ]
  },
  {
   "cell_type": "code",
   "execution_count": null,
   "metadata": {},
   "outputs": [],
   "source": []
  }
 ],
 "metadata": {
  "kernelspec": {
   "display_name": "Python 3",
   "language": "python",
   "name": "python3"
  },
  "language_info": {
   "codemirror_mode": {
    "name": "ipython",
    "version": 3
   },
   "file_extension": ".py",
   "mimetype": "text/x-python",
   "name": "python",
   "nbconvert_exporter": "python",
   "pygments_lexer": "ipython3",
   "version": "3.8.3"
  }
 },
 "nbformat": 4,
 "nbformat_minor": 4
}
