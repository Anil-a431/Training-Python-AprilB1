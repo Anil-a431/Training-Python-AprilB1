{
 "cells": [
  {
   "cell_type": "markdown",
   "id": "76e4c972",
   "metadata": {},
   "source": [
    "### polymorphism\n",
    "1. Compile-time polymorphism\n",
    "    1. Function overloading\n",
    "    2. operator overloading\n",
    "2. Run-time polymorphism\n",
    "    1. method overriding"
   ]
  },
  {
   "cell_type": "code",
   "execution_count": 1,
   "id": "dac7c1a8",
   "metadata": {},
   "outputs": [
    {
     "ename": "TypeError",
     "evalue": "addition() missing 2 required positional arguments: 'z' and 'a'",
     "output_type": "error",
     "traceback": [
      "\u001b[1;31m---------------------------------------------------------------------------\u001b[0m",
      "\u001b[1;31mTypeError\u001b[0m                                 Traceback (most recent call last)",
      "\u001b[1;32m~\\AppData\\Local\\Temp\\ipykernel_5080\\2183268328.py\u001b[0m in \u001b[0;36m<module>\u001b[1;34m\u001b[0m\n\u001b[0;32m      6\u001b[0m \u001b[1;32mdef\u001b[0m \u001b[0maddition\u001b[0m\u001b[1;33m(\u001b[0m\u001b[0mx\u001b[0m\u001b[1;33m,\u001b[0m\u001b[0my\u001b[0m\u001b[1;33m,\u001b[0m\u001b[0mz\u001b[0m\u001b[1;33m,\u001b[0m\u001b[0ma\u001b[0m\u001b[1;33m)\u001b[0m\u001b[1;33m:\u001b[0m\u001b[1;33m\u001b[0m\u001b[1;33m\u001b[0m\u001b[0m\n\u001b[0;32m      7\u001b[0m     \u001b[0mprint\u001b[0m\u001b[1;33m(\u001b[0m\u001b[0mx\u001b[0m\u001b[1;33m+\u001b[0m\u001b[0my\u001b[0m\u001b[1;33m+\u001b[0m\u001b[0mz\u001b[0m\u001b[1;33m+\u001b[0m\u001b[0ma\u001b[0m\u001b[1;33m)\u001b[0m\u001b[1;33m\u001b[0m\u001b[1;33m\u001b[0m\u001b[0m\n\u001b[1;32m----> 8\u001b[1;33m \u001b[0maddition\u001b[0m\u001b[1;33m(\u001b[0m\u001b[1;36m10\u001b[0m\u001b[1;33m,\u001b[0m\u001b[1;36m20\u001b[0m\u001b[1;33m)\u001b[0m\u001b[1;33m\u001b[0m\u001b[1;33m\u001b[0m\u001b[0m\n\u001b[0m\u001b[0;32m      9\u001b[0m \u001b[0maddition\u001b[0m\u001b[1;33m(\u001b[0m\u001b[1;36m10\u001b[0m\u001b[1;33m,\u001b[0m\u001b[1;36m20\u001b[0m\u001b[1;33m,\u001b[0m\u001b[1;36m30\u001b[0m\u001b[1;33m)\u001b[0m\u001b[1;33m\u001b[0m\u001b[1;33m\u001b[0m\u001b[0m\n\u001b[0;32m     10\u001b[0m \u001b[0maddition\u001b[0m\u001b[1;33m(\u001b[0m\u001b[1;36m10\u001b[0m\u001b[1;33m,\u001b[0m\u001b[1;36m20\u001b[0m\u001b[1;33m,\u001b[0m\u001b[1;36m30\u001b[0m\u001b[1;33m,\u001b[0m\u001b[1;36m40\u001b[0m\u001b[1;33m)\u001b[0m\u001b[1;33m\u001b[0m\u001b[1;33m\u001b[0m\u001b[0m\n",
      "\u001b[1;31mTypeError\u001b[0m: addition() missing 2 required positional arguments: 'z' and 'a'"
     ]
    }
   ],
   "source": [
    "#Function overloading\n",
    "def addition(x,y):\n",
    "    print(x+y)\n",
    "def addition(x,y,z):\n",
    "    print(x+y+z)\n",
    "def addition(x,y,z,a):\n",
    "    print(x+y+z+a)\n",
    "addition(10,20)\n",
    "addition(10,20,30)\n",
    "addition(10,20,30,40)"
   ]
  },
  {
   "cell_type": "code",
   "execution_count": 4,
   "id": "2fa9b17e",
   "metadata": {},
   "outputs": [
    {
     "name": "stdout",
     "output_type": "stream",
     "text": [
      "60\n",
      "100\n",
      "140\n"
     ]
    }
   ],
   "source": [
    "#varaible-length arguments\n",
    "def addition(*x):\n",
    "    s = 0\n",
    "    for i in x:\n",
    "        s += i\n",
    "    return s\n",
    "    \n",
    "print(addition(10,20,30))\n",
    "print(addition(10,20,30,40))\n",
    "print(addition(10,20,30,50,30))"
   ]
  },
  {
   "cell_type": "code",
   "execution_count": 14,
   "id": "bed2bcf0",
   "metadata": {},
   "outputs": [],
   "source": [
    "#operator loading\n",
    "class A:\n",
    "    def __init__(self,a,b):\n",
    "        self.a = a\n",
    "        self.b = b\n",
    "    def __add__(self,arg):\n",
    "        return(self.a + arg.a,self.b + arg.b)\n",
    "    def __sub__(self,arg):\n",
    "        return(self.a - arg.a,self.b - arg.b)"
   ]
  },
  {
   "cell_type": "code",
   "execution_count": 15,
   "id": "99287bb7",
   "metadata": {},
   "outputs": [],
   "source": [
    "x = A(10,20)\n",
    "y = A(100,200)"
   ]
  },
  {
   "cell_type": "code",
   "execution_count": 16,
   "id": "33507444",
   "metadata": {},
   "outputs": [
    {
     "data": {
      "text/plain": [
       "(110, 220)"
      ]
     },
     "execution_count": 16,
     "metadata": {},
     "output_type": "execute_result"
    }
   ],
   "source": [
    "x + y"
   ]
  },
  {
   "cell_type": "code",
   "execution_count": 17,
   "id": "191f7e6b",
   "metadata": {},
   "outputs": [
    {
     "data": {
      "text/plain": [
       "(-90, -180)"
      ]
     },
     "execution_count": 17,
     "metadata": {},
     "output_type": "execute_result"
    }
   ],
   "source": [
    "x - y"
   ]
  },
  {
   "cell_type": "markdown",
   "id": "3fbb9f1b",
   "metadata": {},
   "source": [
    "### Run-time ploymorphism ==> Method overriding\n",
    "1. Inheritance should be there.prent and child class\n",
    "2. parent and child should have same method signature\n"
   ]
  },
  {
   "cell_type": "code",
   "execution_count": 26,
   "id": "64251dee",
   "metadata": {},
   "outputs": [],
   "source": [
    "class A:\n",
    "    def display(self):\n",
    "        print(\"This is class A display method\")\n",
    "    def display1(self):\n",
    "        print(\"This is class A display method\")\n",
    "class B(A):\n",
    "    def display(self):\n",
    "        print(\"This is class B display method\")"
   ]
  },
  {
   "cell_type": "code",
   "execution_count": 27,
   "id": "227096bd",
   "metadata": {},
   "outputs": [
    {
     "name": "stdout",
     "output_type": "stream",
     "text": [
      "This is class A display method\n",
      "This is class B display method\n"
     ]
    }
   ],
   "source": [
    "a = A()\n",
    "b = B()\n",
    "a.display()\n",
    "b.display()"
   ]
  },
  {
   "cell_type": "code",
   "execution_count": 28,
   "id": "ebcea86e",
   "metadata": {},
   "outputs": [
    {
     "data": {
      "text/plain": [
       "['__class__',\n",
       " '__delattr__',\n",
       " '__dict__',\n",
       " '__dir__',\n",
       " '__doc__',\n",
       " '__eq__',\n",
       " '__format__',\n",
       " '__ge__',\n",
       " '__getattribute__',\n",
       " '__gt__',\n",
       " '__hash__',\n",
       " '__init__',\n",
       " '__init_subclass__',\n",
       " '__le__',\n",
       " '__lt__',\n",
       " '__module__',\n",
       " '__ne__',\n",
       " '__new__',\n",
       " '__reduce__',\n",
       " '__reduce_ex__',\n",
       " '__repr__',\n",
       " '__setattr__',\n",
       " '__sizeof__',\n",
       " '__str__',\n",
       " '__subclasshook__',\n",
       " '__weakref__',\n",
       " 'display',\n",
       " 'display1']"
      ]
     },
     "execution_count": 28,
     "metadata": {},
     "output_type": "execute_result"
    }
   ],
   "source": [
    "dir(B)"
   ]
  },
  {
   "cell_type": "code",
   "execution_count": 32,
   "id": "9df92889",
   "metadata": {},
   "outputs": [],
   "source": [
    "#multiple inheritance\n",
    "#MRO ==> Method Resolution Order\n",
    "class A:\n",
    "    def add(self):\n",
    "        print(\"This is A class addition\")\n",
    "    def sub(self):\n",
    "        print(\"This is A class substraction\")\n",
    "        \n",
    "class B:\n",
    "    def sub(self):\n",
    "        print(\"This is B class substraction\")\n",
    "        \n",
    "class C(B,A):\n",
    "    def mul(self):\n",
    "        print(\"This is for multiplication\")"
   ]
  },
  {
   "cell_type": "code",
   "execution_count": 33,
   "id": "7b5f13c8",
   "metadata": {},
   "outputs": [
    {
     "name": "stdout",
     "output_type": "stream",
     "text": [
      "This is B class substraction\n"
     ]
    }
   ],
   "source": [
    "c = C()\n",
    "c.sub()"
   ]
  },
  {
   "cell_type": "code",
   "execution_count": null,
   "id": "d21e2daf",
   "metadata": {},
   "outputs": [],
   "source": []
  }
 ],
 "metadata": {
  "kernelspec": {
   "display_name": "Python 3 (ipykernel)",
   "language": "python",
   "name": "python3"
  },
  "language_info": {
   "codemirror_mode": {
    "name": "ipython",
    "version": 3
   },
   "file_extension": ".py",
   "mimetype": "text/x-python",
   "name": "python",
   "nbconvert_exporter": "python",
   "pygments_lexer": "ipython3",
   "version": "3.9.13"
  }
 },
 "nbformat": 4,
 "nbformat_minor": 5
}
