{
 "cells": [
  {
   "cell_type": "markdown",
   "metadata": {},
   "source": [
    "### Searching Algorithm\n",
    "- Linear Search\n",
    "- Binary Search"
   ]
  },
  {
   "cell_type": "markdown",
   "metadata": {},
   "source": [
    "### Linear Search\n",
    "- If the list is duplicate or Unique we can apply the Linear Search Algorithm\n",
    "- Time Complexity\n",
    "    - Best Case - O(1)\n",
    "    - Average Case - O(n)\n",
    "    - Worst Case - O(n)\n",
    "- Steps of Algorithm\n",
    "    - Given List of n elements with the values or data, L0,L1.....LN-1 and Target item k\n",
    "        - Initialize a boolean variable found and set this to False\n",
    "        - Start the loop and iterate from o to N indexes\n",
    "        - Check if the key is same as target then set the bool value to True\n",
    "        - break the loop"
   ]
  },
  {
   "cell_type": "code",
   "execution_count": 6,
   "metadata": {},
   "outputs": [],
   "source": [
    "def linear_search(list1,target):\n",
    "    found = False\n",
    "    for i in range(len(list1)):\n",
    "        if list1[i] == target:\n",
    "            found = True\n",
    "            break\n",
    "    if not found:\n",
    "        return 'Target is not found',i\n",
    "    return 'Target is found',i"
   ]
  },
  {
   "cell_type": "code",
   "execution_count": 7,
   "metadata": {},
   "outputs": [
    {
     "data": {
      "text/plain": [
       "('Target is found', 2)"
      ]
     },
     "execution_count": 7,
     "metadata": {},
     "output_type": "execute_result"
    }
   ],
   "source": [
    "list1 = [1,15,2,14,11,19,21]\n",
    "linear_search(list1,2)"
   ]
  },
  {
   "cell_type": "code",
   "execution_count": 8,
   "metadata": {},
   "outputs": [
    {
     "data": {
      "text/plain": [
       "('Target is found', 2)"
      ]
     },
     "execution_count": 8,
     "metadata": {},
     "output_type": "execute_result"
    }
   ],
   "source": [
    "list1 = [1,15,2,14,11,19,21,2,2]\n",
    "linear_search(list1,2)"
   ]
  },
  {
   "cell_type": "code",
   "execution_count": 4,
   "metadata": {},
   "outputs": [],
   "source": [
    "def test():\n",
    "    return 1,100"
   ]
  },
  {
   "cell_type": "code",
   "execution_count": 5,
   "metadata": {},
   "outputs": [
    {
     "data": {
      "text/plain": [
       "(1, 100)"
      ]
     },
     "execution_count": 5,
     "metadata": {},
     "output_type": "execute_result"
    }
   ],
   "source": [
    "test()"
   ]
  },
  {
   "cell_type": "markdown",
   "metadata": {},
   "source": [
    "### Binary Search Algorithm\n",
    "- Binary search is an efficient algorithm for finding an item from a sorted list of items\n",
    "- It works based on Divide and Conquar Approch, it works by repeatedly dividing the list into half the portion to figure the target item\n",
    "- - Time Complexity\n",
    "    - Best Case - O(1)\n",
    "    - Average Case - O(log n)\n",
    "    - Worst Case - O(log n)\n",
    "- Steps of Binary Search\n",
    "    - Given a list of n elements with values or data from L0,L1,..LN-1(sorted in ascending order), we have to find the key from the given list\n",
    "    - Set a variable **start** to 0 and another variable **end** to n-1\n",
    "    - if start <= end break the algorithm if the given item is found\n",
    "    - Every time calculate the value mid_index  = (start + end) // 2\n",
    "    - If the key value\n",
    "        - Equal to mid then return the mid position\n",
    "        - Greater than  mid set start should be mid + 1\n",
    "        - Less than mid set end should be mid - 1\n",
    "        - Repeat the process till the loop is condition false"
   ]
  },
  {
   "cell_type": "code",
   "execution_count": 9,
   "metadata": {},
   "outputs": [],
   "source": [
    "def binary_search(list1,target):\n",
    "    start_index = 0\n",
    "    end_index = len(list1)-1\n",
    "    while start_index <= end_index:\n",
    "        mid_index = (start_index + end_index) // 2\n",
    "        if list1[mid_index] == target:\n",
    "            return mid_index\n",
    "        if list1[mid_index] < target:\n",
    "            start_index = mid_index + 1\n",
    "        if list1[mid_index] > target:\n",
    "            end_index = mid_index - 1            \n",
    "    return -1"
   ]
  },
  {
   "cell_type": "code",
   "execution_count": 10,
   "metadata": {},
   "outputs": [
    {
     "data": {
      "text/plain": [
       "2"
      ]
     },
     "execution_count": 10,
     "metadata": {},
     "output_type": "execute_result"
    }
   ],
   "source": [
    "list1 = [1,15,2,14,11,19,21]\n",
    "list1.sort()\n",
    "binary_search(list1,11)"
   ]
  },
  {
   "cell_type": "code",
   "execution_count": null,
   "metadata": {},
   "outputs": [],
   "source": []
  }
 ],
 "metadata": {
  "kernelspec": {
   "display_name": "Python 3",
   "language": "python",
   "name": "python3"
  },
  "language_info": {
   "codemirror_mode": {
    "name": "ipython",
    "version": 3
   },
   "file_extension": ".py",
   "mimetype": "text/x-python",
   "name": "python",
   "nbconvert_exporter": "python",
   "pygments_lexer": "ipython3",
   "version": "3.8.3"
  }
 },
 "nbformat": 4,
 "nbformat_minor": 4
}
