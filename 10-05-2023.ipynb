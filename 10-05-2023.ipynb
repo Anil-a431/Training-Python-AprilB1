{
 "cells": [
  {
   "cell_type": "code",
   "execution_count": 1,
   "id": "6f581e11",
   "metadata": {},
   "outputs": [],
   "source": [
    "#class and object creation\n",
    "class Trainer:\n",
    "    name = \"preeti\"\n",
    "    def dispaly(self):\n",
    "        print(\"The name of the trainer is:\",self.name)"
   ]
  },
  {
   "cell_type": "code",
   "execution_count": 2,
   "id": "be40f154",
   "metadata": {},
   "outputs": [],
   "source": [
    "#object creation\n",
    "t1 = Trainer()"
   ]
  },
  {
   "cell_type": "code",
   "execution_count": 3,
   "id": "8e173c7e",
   "metadata": {},
   "outputs": [
    {
     "name": "stdout",
     "output_type": "stream",
     "text": [
      "The name of the trainer is: preeti\n"
     ]
    }
   ],
   "source": [
    "t1.dispaly()"
   ]
  },
  {
   "cell_type": "code",
   "execution_count": 4,
   "id": "34cfcae7",
   "metadata": {},
   "outputs": [
    {
     "data": {
      "text/plain": [
       "'preeti'"
      ]
     },
     "execution_count": 4,
     "metadata": {},
     "output_type": "execute_result"
    }
   ],
   "source": [
    "t1.name"
   ]
  },
  {
   "cell_type": "code",
   "execution_count": 10,
   "id": "c563ca7d",
   "metadata": {},
   "outputs": [],
   "source": [
    "class Arithmetic:\n",
    "    count = 0\n",
    "    def __init__(self,a,b):\n",
    "        self.a = a\n",
    "        self.b = b\n",
    "        Arithmetic.count += 1\n",
    "        \n",
    "    def addition(self):\n",
    "        print(self.a + self.b)\n",
    "    \n",
    "    def sub(self):\n",
    "        print(self.a - self.b)\n"
   ]
  },
  {
   "cell_type": "code",
   "execution_count": 11,
   "id": "6e9d9a11",
   "metadata": {},
   "outputs": [],
   "source": [
    "x = Arithmetic(100,200)"
   ]
  },
  {
   "cell_type": "code",
   "execution_count": 12,
   "id": "357593e6",
   "metadata": {},
   "outputs": [
    {
     "name": "stdout",
     "output_type": "stream",
     "text": [
      "300\n"
     ]
    }
   ],
   "source": [
    "x.addition()"
   ]
  },
  {
   "cell_type": "code",
   "execution_count": 13,
   "id": "c54d3d19",
   "metadata": {},
   "outputs": [
    {
     "name": "stdout",
     "output_type": "stream",
     "text": [
      "-100\n"
     ]
    }
   ],
   "source": [
    "x.sub()"
   ]
  },
  {
   "cell_type": "code",
   "execution_count": 14,
   "id": "7c4d10eb",
   "metadata": {},
   "outputs": [],
   "source": [
    "y = Arithmetic(10,20)"
   ]
  },
  {
   "cell_type": "code",
   "execution_count": 16,
   "id": "f91ba1ba",
   "metadata": {},
   "outputs": [
    {
     "name": "stdout",
     "output_type": "stream",
     "text": [
      "4\n"
     ]
    }
   ],
   "source": [
    "#counting objects\n",
    "class A:\n",
    "    count = 0\n",
    "    def __init__(self):\n",
    "        A.count += 1\n",
    "a = A()\n",
    "b = A()\n",
    "c = A()\n",
    "d = A()\n",
    "print(A.count)"
   ]
  },
  {
   "cell_type": "markdown",
   "id": "c7318509",
   "metadata": {},
   "source": [
    "### Inheritance\n",
    "1. single inheritance\n",
    "2. multi-level inheritance\n",
    "3. Multiple inheritance\n",
    "4. Hierrarchical inheritance"
   ]
  },
  {
   "cell_type": "code",
   "execution_count": 20,
   "id": "fe722aec",
   "metadata": {},
   "outputs": [],
   "source": [
    "#single inheritance\n",
    "class A:\n",
    "    def add(self):\n",
    "        print(\"This is for addition\")\n",
    "class B(A):\n",
    "    def sub(self):\n",
    "        print(\"This is for substraction\")"
   ]
  },
  {
   "cell_type": "code",
   "execution_count": 24,
   "id": "2c9196d3",
   "metadata": {},
   "outputs": [],
   "source": [
    "#Multi-level inheritance\n",
    "class A:\n",
    "    def add(self):\n",
    "        print(\"This is for addition\")\n",
    "class B(A):\n",
    "    def sub(self):\n",
    "        print(\"This is for substraction\")\n",
    "class C(B):\n",
    "    def mul(self):\n",
    "        print(\"This is for multiplication\")"
   ]
  },
  {
   "cell_type": "code",
   "execution_count": 26,
   "id": "a7cbe2c1",
   "metadata": {},
   "outputs": [],
   "source": [
    "#multiple inheritance\n",
    "class A:\n",
    "    def add(self):\n",
    "        print(\"This is for addition\")\n",
    "class B:\n",
    "    def sub(self):\n",
    "        print(\"This is for substraction\")\n",
    "class C(A,B):\n",
    "    def mul(self):\n",
    "        print(\"This is for multiplication\")"
   ]
  },
  {
   "cell_type": "code",
   "execution_count": 28,
   "id": "6daf44a5",
   "metadata": {},
   "outputs": [],
   "source": [
    "#Hierarchical inheritance\n",
    "class A:\n",
    "    def add(self):\n",
    "        print(\"This is for addition\")\n",
    "class B(A):\n",
    "    def sub(self):\n",
    "        print(\"This is for substraction\")\n",
    "class C(A):\n",
    "    def mul(self):\n",
    "        print(\"This is for multiplication\")"
   ]
  },
  {
   "cell_type": "code",
   "execution_count": null,
   "id": "278b5aa4",
   "metadata": {},
   "outputs": [],
   "source": []
  }
 ],
 "metadata": {
  "kernelspec": {
   "display_name": "Python 3 (ipykernel)",
   "language": "python",
   "name": "python3"
  },
  "language_info": {
   "codemirror_mode": {
    "name": "ipython",
    "version": 3
   },
   "file_extension": ".py",
   "mimetype": "text/x-python",
   "name": "python",
   "nbconvert_exporter": "python",
   "pygments_lexer": "ipython3",
   "version": "3.9.13"
  }
 },
 "nbformat": 4,
 "nbformat_minor": 5
}
