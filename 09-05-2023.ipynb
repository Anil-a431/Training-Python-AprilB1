{
 "cells": [
  {
   "cell_type": "markdown",
   "id": "ca2f8c25",
   "metadata": {},
   "source": [
    "### OOP's concept:\n",
    "1. class\n",
    "2. object\n",
    "3. Inheritance\n",
    "4. Polymorphism\n",
    "5. Encapsulation\n",
    "6. Abstraction"
   ]
  },
  {
   "cell_type": "code",
   "execution_count": 6,
   "id": "ae42b467",
   "metadata": {},
   "outputs": [],
   "source": [
    "#attribute ==> class attribute,instance attribute\n",
    "class Trainer:\n",
    "    name = \"preeti\"#class attribute\n",
    "    def teach(self):\n",
    "        loc = \"hyd\"#instance attribute\n",
    "        print(self.name,\"is teaching python and she is from\",loc)"
   ]
  },
  {
   "cell_type": "code",
   "execution_count": 7,
   "id": "e37ae56f",
   "metadata": {},
   "outputs": [],
   "source": [
    "#constructor ==> __init__()\n",
    "t = Trainer()"
   ]
  },
  {
   "cell_type": "code",
   "execution_count": 8,
   "id": "3c02109e",
   "metadata": {},
   "outputs": [
    {
     "name": "stdout",
     "output_type": "stream",
     "text": [
      "preeti is teaching python and she is from hyd\n"
     ]
    }
   ],
   "source": [
    "t.teach()"
   ]
  },
  {
   "cell_type": "code",
   "execution_count": 9,
   "id": "5cbc7c56",
   "metadata": {},
   "outputs": [
    {
     "data": {
      "text/plain": [
       "'preeti'"
      ]
     },
     "execution_count": 9,
     "metadata": {},
     "output_type": "execute_result"
    }
   ],
   "source": [
    "t.name"
   ]
  },
  {
   "cell_type": "code",
   "execution_count": null,
   "id": "ec00beb7",
   "metadata": {},
   "outputs": [],
   "source": [
    "# destructor ==> del"
   ]
  },
  {
   "cell_type": "code",
   "execution_count": 12,
   "id": "1444cdc0",
   "metadata": {
    "collapsed": true
   },
   "outputs": [
    {
     "name": "stdout",
     "output_type": "stream",
     "text": [
      "Help on class Trainer in module __main__:\n",
      "\n",
      "class Trainer(builtins.object)\n",
      " |  Methods defined here:\n",
      " |  \n",
      " |  teach(self)\n",
      " |  \n",
      " |  ----------------------------------------------------------------------\n",
      " |  Data descriptors defined here:\n",
      " |  \n",
      " |  __dict__\n",
      " |      dictionary for instance variables (if defined)\n",
      " |  \n",
      " |  __weakref__\n",
      " |      list of weak references to the object (if defined)\n",
      " |  \n",
      " |  ----------------------------------------------------------------------\n",
      " |  Data and other attributes defined here:\n",
      " |  \n",
      " |  name = 'preeti'\n",
      "\n"
     ]
    }
   ],
   "source": [
    "help(Trainer)"
   ]
  },
  {
   "cell_type": "code",
   "execution_count": 13,
   "id": "053133a0",
   "metadata": {
    "collapsed": true
   },
   "outputs": [
    {
     "data": {
      "text/plain": [
       "['__class__',\n",
       " '__delattr__',\n",
       " '__dict__',\n",
       " '__dir__',\n",
       " '__doc__',\n",
       " '__eq__',\n",
       " '__format__',\n",
       " '__ge__',\n",
       " '__getattribute__',\n",
       " '__gt__',\n",
       " '__hash__',\n",
       " '__init__',\n",
       " '__init_subclass__',\n",
       " '__le__',\n",
       " '__lt__',\n",
       " '__module__',\n",
       " '__ne__',\n",
       " '__new__',\n",
       " '__reduce__',\n",
       " '__reduce_ex__',\n",
       " '__repr__',\n",
       " '__setattr__',\n",
       " '__sizeof__',\n",
       " '__str__',\n",
       " '__subclasshook__',\n",
       " '__weakref__',\n",
       " 'name',\n",
       " 'teach']"
      ]
     },
     "execution_count": 13,
     "metadata": {},
     "output_type": "execute_result"
    }
   ],
   "source": [
    "dir(Trainer)"
   ]
  },
  {
   "cell_type": "code",
   "execution_count": 14,
   "id": "78999f8f",
   "metadata": {},
   "outputs": [],
   "source": [
    "class Abc:\n",
    "    def __init__(self):\n",
    "        print(\"constructor is called\")\n",
    "    def teach(self):\n",
    "        print(\"preeti is teaching python and she is from\")"
   ]
  },
  {
   "cell_type": "code",
   "execution_count": 15,
   "id": "a38fca34",
   "metadata": {},
   "outputs": [
    {
     "name": "stdout",
     "output_type": "stream",
     "text": [
      "constructor is called\n"
     ]
    }
   ],
   "source": [
    "a = Abc()"
   ]
  },
  {
   "cell_type": "markdown",
   "id": "0f954ce2",
   "metadata": {},
   "source": [
    "### Constructors\n",
    "1. Default\n",
    "2. Parameterized"
   ]
  },
  {
   "cell_type": "code",
   "execution_count": 16,
   "id": "100f359a",
   "metadata": {},
   "outputs": [],
   "source": [
    "#Default constructor\n",
    "class Abc:\n",
    "    def __init__(self):\n",
    "        print(\"constructor is called\")"
   ]
  },
  {
   "cell_type": "code",
   "execution_count": 17,
   "id": "a4afd017",
   "metadata": {},
   "outputs": [
    {
     "name": "stdout",
     "output_type": "stream",
     "text": [
      "constructor is called\n"
     ]
    }
   ],
   "source": [
    "a = Abc()"
   ]
  },
  {
   "cell_type": "code",
   "execution_count": 18,
   "id": "815505aa",
   "metadata": {},
   "outputs": [],
   "source": [
    "#parameterized constructor\n",
    "class Abc:\n",
    "    def __init__(self,a,b):\n",
    "        self.a = a\n",
    "        self.b = b\n",
    "    def addition(self):\n",
    "        print(self.a + self.b)"
   ]
  },
  {
   "cell_type": "code",
   "execution_count": 21,
   "id": "98c1cfa7",
   "metadata": {},
   "outputs": [
    {
     "name": "stdout",
     "output_type": "stream",
     "text": [
      "30\n"
     ]
    }
   ],
   "source": [
    "a = Abc(10,20)\n",
    "a.addition()"
   ]
  },
  {
   "cell_type": "code",
   "execution_count": 22,
   "id": "d4bd374c",
   "metadata": {},
   "outputs": [
    {
     "name": "stdout",
     "output_type": "stream",
     "text": [
      "35\n"
     ]
    }
   ],
   "source": [
    "b = Abc(12,23)\n",
    "b.addition()"
   ]
  },
  {
   "cell_type": "code",
   "execution_count": null,
   "id": "19779f4c",
   "metadata": {},
   "outputs": [],
   "source": []
  }
 ],
 "metadata": {
  "kernelspec": {
   "display_name": "Python 3 (ipykernel)",
   "language": "python",
   "name": "python3"
  },
  "language_info": {
   "codemirror_mode": {
    "name": "ipython",
    "version": 3
   },
   "file_extension": ".py",
   "mimetype": "text/x-python",
   "name": "python",
   "nbconvert_exporter": "python",
   "pygments_lexer": "ipython3",
   "version": "3.9.13"
  }
 },
 "nbformat": 4,
 "nbformat_minor": 5
}
