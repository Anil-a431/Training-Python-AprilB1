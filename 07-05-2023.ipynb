{
 "cells": [
  {
   "cell_type": "markdown",
   "id": "c8c5f105",
   "metadata": {},
   "source": [
    "### Exception Handling"
   ]
  },
  {
   "cell_type": "markdown",
   "id": "36102043",
   "metadata": {},
   "source": [
    "### Types of errors\n",
    "1. compile-time error\n",
    "2. Logical errors\n",
    "3. Run-time errors ==> Exception Handling"
   ]
  },
  {
   "cell_type": "code",
   "execution_count": 1,
   "id": "725cbcd9",
   "metadata": {},
   "outputs": [
    {
     "ename": "SyntaxError",
     "evalue": "unexpected EOF while parsing (4073957952.py, line 4)",
     "output_type": "error",
     "traceback": [
      "\u001b[1;36m  File \u001b[1;32m\"C:\\Users\\hp\\AppData\\Local\\Temp\\ipykernel_13944\\4073957952.py\"\u001b[1;36m, line \u001b[1;32m4\u001b[0m\n\u001b[1;33m    print(x+y\u001b[0m\n\u001b[1;37m             ^\u001b[0m\n\u001b[1;31mSyntaxError\u001b[0m\u001b[1;31m:\u001b[0m unexpected EOF while parsing\n"
     ]
    }
   ],
   "source": [
    "#Addition of two numbers\n",
    "x = 10\n",
    "y = 20\n",
    "print(x+y"
   ]
  },
  {
   "cell_type": "code",
   "execution_count": 2,
   "id": "7e141aa2",
   "metadata": {},
   "outputs": [
    {
     "name": "stdout",
     "output_type": "stream",
     "text": [
      "-10\n"
     ]
    }
   ],
   "source": [
    "#Addition of two numbers\n",
    "x = 10\n",
    "y = 20\n",
    "print(x - y)"
   ]
  },
  {
   "cell_type": "code",
   "execution_count": 4,
   "id": "2c8c6f44",
   "metadata": {},
   "outputs": [
    {
     "name": "stdout",
     "output_type": "stream",
     "text": [
      "0.5\n"
     ]
    }
   ],
   "source": [
    "x = 10 \n",
    "y = 0\n",
    "print(x/y)"
   ]
  },
  {
   "cell_type": "markdown",
   "id": "7645502e",
   "metadata": {},
   "source": [
    "### Exception handling\n",
    "1. try ==> it lets you test a block of code for error\n",
    "2. except ==> it handles the error\n",
    "3. finally ==> executes code regardless of try and except block"
   ]
  },
  {
   "cell_type": "markdown",
   "id": "30a4c697",
   "metadata": {},
   "source": [
    "### Built-in exceptions:\n",
    "1. ZeroDivisionError\n",
    "2. TypeError\n",
    "3. NameError\n",
    "4. ModuleNotFoundError\n",
    "5. IndexError"
   ]
  },
  {
   "cell_type": "code",
   "execution_count": 5,
   "id": "cc76e4d4",
   "metadata": {},
   "outputs": [
    {
     "ename": "ZeroDivisionError",
     "evalue": "division by zero",
     "output_type": "error",
     "traceback": [
      "\u001b[1;31m---------------------------------------------------------------------------\u001b[0m",
      "\u001b[1;31mZeroDivisionError\u001b[0m                         Traceback (most recent call last)",
      "\u001b[1;32m~\\AppData\\Local\\Temp\\ipykernel_13944\\530406163.py\u001b[0m in \u001b[0;36m<module>\u001b[1;34m\u001b[0m\n\u001b[1;32m----> 1\u001b[1;33m \u001b[1;36m10\u001b[0m\u001b[1;33m/\u001b[0m\u001b[1;36m0\u001b[0m\u001b[1;33m\u001b[0m\u001b[1;33m\u001b[0m\u001b[0m\n\u001b[0m",
      "\u001b[1;31mZeroDivisionError\u001b[0m: division by zero"
     ]
    }
   ],
   "source": [
    "10/0"
   ]
  },
  {
   "cell_type": "code",
   "execution_count": 7,
   "id": "a4b0b612",
   "metadata": {},
   "outputs": [
    {
     "ename": "TypeError",
     "evalue": "can only concatenate str (not \"int\") to str",
     "output_type": "error",
     "traceback": [
      "\u001b[1;31m---------------------------------------------------------------------------\u001b[0m",
      "\u001b[1;31mTypeError\u001b[0m                                 Traceback (most recent call last)",
      "\u001b[1;32m~\\AppData\\Local\\Temp\\ipykernel_13944\\3164588911.py\u001b[0m in \u001b[0;36m<module>\u001b[1;34m\u001b[0m\n\u001b[1;32m----> 1\u001b[1;33m \u001b[1;34m\"abc\"\u001b[0m \u001b[1;33m+\u001b[0m \u001b[1;36m123\u001b[0m\u001b[1;33m\u001b[0m\u001b[1;33m\u001b[0m\u001b[0m\n\u001b[0m",
      "\u001b[1;31mTypeError\u001b[0m: can only concatenate str (not \"int\") to str"
     ]
    }
   ],
   "source": [
    "\"abc\" + 123"
   ]
  },
  {
   "cell_type": "code",
   "execution_count": 8,
   "id": "4f148f11",
   "metadata": {},
   "outputs": [
    {
     "ename": "NameError",
     "evalue": "name 'a' is not defined",
     "output_type": "error",
     "traceback": [
      "\u001b[1;31m---------------------------------------------------------------------------\u001b[0m",
      "\u001b[1;31mNameError\u001b[0m                                 Traceback (most recent call last)",
      "\u001b[1;32m~\\AppData\\Local\\Temp\\ipykernel_13944\\1108993416.py\u001b[0m in \u001b[0;36m<module>\u001b[1;34m\u001b[0m\n\u001b[1;32m----> 1\u001b[1;33m \u001b[0mx\u001b[0m \u001b[1;33m*\u001b[0m \u001b[0ma\u001b[0m\u001b[1;33m\u001b[0m\u001b[1;33m\u001b[0m\u001b[0m\n\u001b[0m",
      "\u001b[1;31mNameError\u001b[0m: name 'a' is not defined"
     ]
    }
   ],
   "source": [
    "x * a"
   ]
  },
  {
   "cell_type": "code",
   "execution_count": 9,
   "id": "4e9cc892",
   "metadata": {},
   "outputs": [
    {
     "ename": "ModuleNotFoundError",
     "evalue": "No module named 'OS'",
     "output_type": "error",
     "traceback": [
      "\u001b[1;31m---------------------------------------------------------------------------\u001b[0m",
      "\u001b[1;31mModuleNotFoundError\u001b[0m                       Traceback (most recent call last)",
      "\u001b[1;32m~\\AppData\\Local\\Temp\\ipykernel_13944\\3369028782.py\u001b[0m in \u001b[0;36m<module>\u001b[1;34m\u001b[0m\n\u001b[1;32m----> 1\u001b[1;33m \u001b[1;32mimport\u001b[0m \u001b[0mOS\u001b[0m\u001b[1;33m\u001b[0m\u001b[1;33m\u001b[0m\u001b[0m\n\u001b[0m",
      "\u001b[1;31mModuleNotFoundError\u001b[0m: No module named 'OS'"
     ]
    }
   ],
   "source": [
    "import OS"
   ]
  },
  {
   "cell_type": "code",
   "execution_count": 10,
   "id": "88f899ef",
   "metadata": {},
   "outputs": [
    {
     "ename": "IndexError",
     "evalue": "list index out of range",
     "output_type": "error",
     "traceback": [
      "\u001b[1;31m---------------------------------------------------------------------------\u001b[0m",
      "\u001b[1;31mIndexError\u001b[0m                                Traceback (most recent call last)",
      "\u001b[1;32m~\\AppData\\Local\\Temp\\ipykernel_13944\\80363614.py\u001b[0m in \u001b[0;36m<module>\u001b[1;34m\u001b[0m\n\u001b[0;32m      1\u001b[0m \u001b[0mlist1\u001b[0m \u001b[1;33m=\u001b[0m \u001b[1;33m[\u001b[0m\u001b[1;36m1\u001b[0m\u001b[1;33m,\u001b[0m\u001b[1;36m2\u001b[0m\u001b[1;33m,\u001b[0m\u001b[1;36m3\u001b[0m\u001b[1;33m]\u001b[0m\u001b[1;33m\u001b[0m\u001b[1;33m\u001b[0m\u001b[0m\n\u001b[1;32m----> 2\u001b[1;33m \u001b[0mlist1\u001b[0m\u001b[1;33m[\u001b[0m\u001b[1;36m6\u001b[0m\u001b[1;33m]\u001b[0m\u001b[1;33m\u001b[0m\u001b[1;33m\u001b[0m\u001b[0m\n\u001b[0m",
      "\u001b[1;31mIndexError\u001b[0m: list index out of range"
     ]
    }
   ],
   "source": [
    "list1 = [1,2,3]\n",
    "list1[6]"
   ]
  },
  {
   "cell_type": "markdown",
   "id": "92b19a0f",
   "metadata": {},
   "source": [
    "### Example"
   ]
  },
  {
   "cell_type": "code",
   "execution_count": 24,
   "id": "682b3ee4",
   "metadata": {},
   "outputs": [
    {
     "name": "stdout",
     "output_type": "stream",
     "text": [
      "Enter x value10\n",
      "Enter y value20\n",
      "0.5\n",
      "something went wrong here\n"
     ]
    }
   ],
   "source": [
    "x = int(input(\"Enter x value\"))\n",
    "y = int(input(\"Enter y value\"))\n",
    "try:\n",
    "    print(x / y)\n",
    "    print(x * a)\n",
    "#Multiple exceptions\n",
    "except(ZeroDivisionError,NameError,IndexError):\n",
    "    print(\"something went wrong here\")"
   ]
  },
  {
   "cell_type": "code",
   "execution_count": null,
   "id": "953caa09",
   "metadata": {},
   "outputs": [],
   "source": [
    "'''except ZeroDivisionError as e:\n",
    "    print(\"something went wrong here i.e.,ZeroDivisionError:\",e)\n",
    "except NameError as e:\n",
    "    print(\"something went wrong here i.e.,NameError:\",e)'''"
   ]
  },
  {
   "cell_type": "code",
   "execution_count": 28,
   "id": "7668ba9f",
   "metadata": {},
   "outputs": [
    {
     "name": "stdout",
     "output_type": "stream",
     "text": [
      "Enter x value10\n",
      "Enter y value0\n",
      "something went wrong here\n",
      "This is finally block\n"
     ]
    }
   ],
   "source": [
    "x = int(input(\"Enter x value\"))\n",
    "y = int(input(\"Enter y value\"))\n",
    "try:\n",
    "    print(x / y)\n",
    "except:\n",
    "    print(\"something went wrong here\")\n",
    "else:\n",
    "    print(\"This is else block\")\n",
    "finally:\n",
    "    print(\"This is finally block\")"
   ]
  },
  {
   "cell_type": "markdown",
   "id": "54c0a026",
   "metadata": {},
   "source": [
    "### Raising exception"
   ]
  },
  {
   "cell_type": "code",
   "execution_count": 30,
   "id": "61c4a685",
   "metadata": {},
   "outputs": [
    {
     "ename": "NameError",
     "evalue": "This is name error",
     "output_type": "error",
     "traceback": [
      "\u001b[1;31m---------------------------------------------------------------------------\u001b[0m",
      "\u001b[1;31mNameError\u001b[0m                                 Traceback (most recent call last)",
      "\u001b[1;32m~\\AppData\\Local\\Temp\\ipykernel_13944\\309678639.py\u001b[0m in \u001b[0;36m<module>\u001b[1;34m\u001b[0m\n\u001b[1;32m----> 1\u001b[1;33m \u001b[1;32mraise\u001b[0m \u001b[0mNameError\u001b[0m\u001b[1;33m(\u001b[0m\u001b[1;34m\"This is name error\"\u001b[0m\u001b[1;33m)\u001b[0m\u001b[1;33m\u001b[0m\u001b[1;33m\u001b[0m\u001b[0m\n\u001b[0m",
      "\u001b[1;31mNameError\u001b[0m: This is name error"
     ]
    }
   ],
   "source": [
    "raise NameError(\"This is name error\")"
   ]
  },
  {
   "cell_type": "code",
   "execution_count": null,
   "id": "62d15ef1",
   "metadata": {},
   "outputs": [],
   "source": []
  }
 ],
 "metadata": {
  "kernelspec": {
   "display_name": "Python 3 (ipykernel)",
   "language": "python",
   "name": "python3"
  },
  "language_info": {
   "codemirror_mode": {
    "name": "ipython",
    "version": 3
   },
   "file_extension": ".py",
   "mimetype": "text/x-python",
   "name": "python",
   "nbconvert_exporter": "python",
   "pygments_lexer": "ipython3",
   "version": "3.9.13"
  }
 },
 "nbformat": 4,
 "nbformat_minor": 5
}
