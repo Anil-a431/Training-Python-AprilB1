{
 "cells": [
  {
   "cell_type": "markdown",
   "id": "fac386d9",
   "metadata": {},
   "source": [
    "### File handling"
   ]
  },
  {
   "cell_type": "code",
   "execution_count": 1,
   "id": "983750c8",
   "metadata": {},
   "outputs": [],
   "source": [
    "#modes ==> r,w,a,x\n",
    "f = open(\"demo.txt\",\"x\")"
   ]
  },
  {
   "cell_type": "code",
   "execution_count": 2,
   "id": "5bda4ca4",
   "metadata": {},
   "outputs": [],
   "source": [
    "f.close()"
   ]
  },
  {
   "cell_type": "code",
   "execution_count": 3,
   "id": "818cc2fe",
   "metadata": {},
   "outputs": [
    {
     "ename": "FileExistsError",
     "evalue": "[Errno 17] File exists: 'demo.txt'",
     "output_type": "error",
     "traceback": [
      "\u001b[1;31m---------------------------------------------------------------------------\u001b[0m",
      "\u001b[1;31mFileExistsError\u001b[0m                           Traceback (most recent call last)",
      "\u001b[1;32m~\\AppData\\Local\\Temp\\ipykernel_10864\\3602190982.py\u001b[0m in \u001b[0;36m<module>\u001b[1;34m\u001b[0m\n\u001b[1;32m----> 1\u001b[1;33m \u001b[0mf\u001b[0m \u001b[1;33m=\u001b[0m \u001b[0mopen\u001b[0m\u001b[1;33m(\u001b[0m\u001b[1;34m\"demo.txt\"\u001b[0m\u001b[1;33m,\u001b[0m\u001b[1;34m\"x\"\u001b[0m\u001b[1;33m)\u001b[0m\u001b[1;33m\u001b[0m\u001b[1;33m\u001b[0m\u001b[0m\n\u001b[0m",
      "\u001b[1;31mFileExistsError\u001b[0m: [Errno 17] File exists: 'demo.txt'"
     ]
    }
   ],
   "source": [
    "f = open(\"demo.txt\",\"x\")"
   ]
  },
  {
   "cell_type": "code",
   "execution_count": 4,
   "id": "79500a5f",
   "metadata": {},
   "outputs": [],
   "source": [
    "f = open(\"demo.txt\",'w')"
   ]
  },
  {
   "cell_type": "code",
   "execution_count": 5,
   "id": "be3cea51",
   "metadata": {},
   "outputs": [],
   "source": [
    "# \" \" or '' ==> single line string\n",
    "# \"\"\" \"\"\" or ''' '''==> multiline string\n",
    "\n",
    "data = \"\"\"Hello world\n",
    "Hello world\n",
    "Hello world\n",
    "Hello world\n",
    "Hello world\"\"\"\n",
    "\n",
    "f.write(data)\n",
    "f.close()"
   ]
  },
  {
   "cell_type": "code",
   "execution_count": 7,
   "id": "72b55de4",
   "metadata": {},
   "outputs": [
    {
     "name": "stdout",
     "output_type": "stream",
     "text": [
      "Hello world\n",
      "Hello world\n",
      "Hello world\n",
      "Hello world\n",
      "Hello world123\n"
     ]
    }
   ],
   "source": [
    "f = open(\"demo.txt\",\"r\")\n",
    "content = f.read()\n",
    "print(content)"
   ]
  },
  {
   "cell_type": "code",
   "execution_count": 8,
   "id": "bed15b85",
   "metadata": {},
   "outputs": [],
   "source": [
    "f.close()"
   ]
  },
  {
   "cell_type": "code",
   "execution_count": 11,
   "id": "a2b30dec",
   "metadata": {},
   "outputs": [
    {
     "name": "stdout",
     "output_type": "stream",
     "text": [
      "Hello world\n",
      "\n"
     ]
    }
   ],
   "source": [
    "f = open(\"demo.txt\",\"r\")\n",
    "content = f.readline()\n",
    "print(content)\n",
    "f.close()"
   ]
  },
  {
   "cell_type": "code",
   "execution_count": 12,
   "id": "6c2d5b52",
   "metadata": {},
   "outputs": [
    {
     "name": "stdout",
     "output_type": "stream",
     "text": [
      "Hello\n"
     ]
    }
   ],
   "source": [
    "f = open(\"demo.txt\",\"r\")\n",
    "content = f.read(5)\n",
    "print(content)\n",
    "f.close()"
   ]
  },
  {
   "cell_type": "code",
   "execution_count": 14,
   "id": "94718126",
   "metadata": {},
   "outputs": [],
   "source": [
    "data1 = \"\"\"Hello world6\n",
    "Hello world7\n",
    "Hello world8\n",
    "Hello world9\n",
    "Hello world10\"\"\"\n",
    "f = open(\"demo.txt\",\"w\")\n",
    "f.write(data1)\n",
    "f.close()"
   ]
  },
  {
   "cell_type": "code",
   "execution_count": 15,
   "id": "320cc0ae",
   "metadata": {},
   "outputs": [],
   "source": [
    "data1 = \"\"\"Hello world6\n",
    "Hello world7\n",
    "Hello world8\n",
    "Hello world9\n",
    "Hello world10\"\"\"\n",
    "f = open(\"demo.txt\",\"a\")\n",
    "f.write(data1)\n",
    "f.close()"
   ]
  },
  {
   "cell_type": "code",
   "execution_count": 16,
   "id": "c28ca3aa",
   "metadata": {},
   "outputs": [],
   "source": [
    "import os"
   ]
  },
  {
   "cell_type": "code",
   "execution_count": 17,
   "id": "938b4ddf",
   "metadata": {},
   "outputs": [],
   "source": [
    "os.rename(\"demo.txt\",\"sample.txt\")"
   ]
  },
  {
   "cell_type": "code",
   "execution_count": 18,
   "id": "77c36b3c",
   "metadata": {},
   "outputs": [],
   "source": [
    "os.remove(\"sample.txt\")"
   ]
  },
  {
   "cell_type": "markdown",
   "id": "0cecf997",
   "metadata": {},
   "source": [
    "### Questions\n",
    "1. create a file,add data into the file.create another copy content from the previous file to the new file\n",
    "2. create a function which counts the no.of lines in a file.\n",
    "3. create a function which counts the words in a file.\n",
    "4. create a function which counts the character in a file."
   ]
  }
 ],
 "metadata": {
  "kernelspec": {
   "display_name": "Python 3 (ipykernel)",
   "language": "python",
   "name": "python3"
  },
  "language_info": {
   "codemirror_mode": {
    "name": "ipython",
    "version": 3
   },
   "file_extension": ".py",
   "mimetype": "text/x-python",
   "name": "python",
   "nbconvert_exporter": "python",
   "pygments_lexer": "ipython3",
   "version": "3.9.13"
  }
 },
 "nbformat": 4,
 "nbformat_minor": 5
}
