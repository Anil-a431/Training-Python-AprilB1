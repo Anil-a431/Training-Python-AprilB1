{
 "cells": [
  {
   "cell_type": "markdown",
   "id": "93d15f8c",
   "metadata": {},
   "source": [
    "### connecting to database server using python\n",
    "1. import the package\n",
    "    1. oracle ==> cx_Oracle\n",
    "    2. Microsoft SQL server ==> pymssql\n",
    "    3. MYSQL ==> pymysql\n",
    "    4. SQLite ==>sqlite3\n",
    "2. Establish connection b/w python and DB using connect()\n",
    "3. create cursor object for executing a query and to hold the result\n",
    "4. execute query\n",
    "5. fetch the results\n",
    "6. DML commands commit()\n",
    "7. close cursor,con"
   ]
  },
  {
   "cell_type": "code",
   "execution_count": 1,
   "id": "735ad90e",
   "metadata": {},
   "outputs": [],
   "source": [
    "import sqlite3"
   ]
  },
  {
   "cell_type": "code",
   "execution_count": 2,
   "id": "15a78f25",
   "metadata": {},
   "outputs": [],
   "source": [
    "con = sqlite3.connect('sample.db')"
   ]
  },
  {
   "cell_type": "code",
   "execution_count": 3,
   "id": "d6e28313",
   "metadata": {},
   "outputs": [],
   "source": [
    "cur = con.cursor()"
   ]
  },
  {
   "cell_type": "markdown",
   "id": "fa85f3de",
   "metadata": {},
   "source": [
    "### creating a table:"
   ]
  },
  {
   "cell_type": "code",
   "execution_count": 4,
   "id": "7de66373",
   "metadata": {},
   "outputs": [],
   "source": [
    "#CREATE TABLE DEPARTMENT (ID INT,DEPT TEXT,SALARY REAL);\n",
    "cur.execute(\"CREATE TABLE DEPARTMENT (ID INT,DEPT TEXT,SALARY REAL);\")\n",
    "cur.close()\n",
    "con.close()"
   ]
  },
  {
   "cell_type": "markdown",
   "id": "381e3e3a",
   "metadata": {},
   "source": [
    "### Inserting single record values into the table:"
   ]
  },
  {
   "cell_type": "code",
   "execution_count": 6,
   "id": "514b922b",
   "metadata": {},
   "outputs": [],
   "source": [
    "con = sqlite3.connect('sample.db')\n",
    "cur = con.cursor()\n",
    "cur.execute(\"INSERT INTO DEPARTMENT VALUES (1,'POLICE',12345.00);\")\n",
    "con.commit()\n",
    "cur.close()\n",
    "con.close()"
   ]
  },
  {
   "cell_type": "markdown",
   "id": "fb5f53d7",
   "metadata": {},
   "source": [
    "### Inserting multiple record values into the table:"
   ]
  },
  {
   "cell_type": "code",
   "execution_count": 8,
   "id": "071a7494",
   "metadata": {},
   "outputs": [
    {
     "name": "stdout",
     "output_type": "stream",
     "text": [
      "Enter how many records you want to insert?2\n",
      "Enter id value:3\n",
      "Enter department:security\n",
      "Enter salary value:20000\n",
      "Enter id value:4\n",
      "Enter department:IT\n",
      "Enter salary value:30000\n"
     ]
    }
   ],
   "source": [
    "con = sqlite3.connect('sample.db')\n",
    "cur = con.cursor()\n",
    "n = int(input(\"Enter how many records you want to insert?\"))\n",
    "for i in range(n):\n",
    "    id = int(input(\"Enter id value:\"))\n",
    "    dept = input(\"Enter department:\")\n",
    "    sal = float(input(\"Enter salary value:\"))\n",
    "    query = \"INSERT INTO DEPARTMENT VALUES (?,?,?);\"\n",
    "    cur.execute(query,(id,dept,sal))\n",
    "    con.commit()\n",
    "cur.close()\n",
    "con.close()"
   ]
  },
  {
   "cell_type": "markdown",
   "id": "2c2d45b8",
   "metadata": {},
   "source": [
    "### Updating a record:"
   ]
  },
  {
   "cell_type": "code",
   "execution_count": 9,
   "id": "07f105b1",
   "metadata": {},
   "outputs": [],
   "source": [
    "con = sqlite3.connect('sample.db')\n",
    "cur = con.cursor()\n",
    "cur.execute(\"UPDATE DEPARTMENT SET SALARY = 300000 WHERE ID=4;\")\n",
    "con.commit()\n",
    "cur.close()\n",
    "con.close()"
   ]
  },
  {
   "cell_type": "markdown",
   "id": "c357ce68",
   "metadata": {},
   "source": [
    "### Deleting a record:"
   ]
  },
  {
   "cell_type": "code",
   "execution_count": 10,
   "id": "876adcf2",
   "metadata": {},
   "outputs": [],
   "source": [
    "con = sqlite3.connect('sample.db')\n",
    "cur = con.cursor()\n",
    "cur.execute(\"DELETE FROM DEPARTMENT WHERE ID=4;\")\n",
    "con.commit()\n",
    "cur.close()\n",
    "con.close()"
   ]
  },
  {
   "cell_type": "markdown",
   "id": "36085e39",
   "metadata": {},
   "source": [
    "### Fetch the records:"
   ]
  },
  {
   "cell_type": "code",
   "execution_count": 15,
   "id": "13884be2",
   "metadata": {},
   "outputs": [
    {
     "name": "stdout",
     "output_type": "stream",
     "text": [
      "<sqlite3.Cursor object at 0x0000020D8A89EEA0>\n"
     ]
    }
   ],
   "source": [
    "con = sqlite3.connect('sample.db')\n",
    "cur = con.cursor()\n",
    "obj = cur.execute(\"SELECT * FROM DEPARTMENT;\")\n",
    "print(obj)"
   ]
  },
  {
   "cell_type": "code",
   "execution_count": 16,
   "id": "8db065aa",
   "metadata": {},
   "outputs": [
    {
     "name": "stdout",
     "output_type": "stream",
     "text": [
      "(1, 'POLICE', 12345.0)\n",
      "(2, 'education', 100000.0)\n",
      "(3, 'security', 20000.0)\n"
     ]
    }
   ],
   "source": [
    "for i in obj:\n",
    "    print(i)"
   ]
  },
  {
   "cell_type": "code",
   "execution_count": 17,
   "id": "02662cfa",
   "metadata": {},
   "outputs": [],
   "source": [
    "cur.close()\n",
    "con.close()"
   ]
  },
  {
   "cell_type": "markdown",
   "id": "8789d211",
   "metadata": {},
   "source": [
    "### Alter ==> adding a new a column or rename a table"
   ]
  },
  {
   "cell_type": "code",
   "execution_count": 18,
   "id": "88910652",
   "metadata": {},
   "outputs": [],
   "source": [
    "con = sqlite3.connect('sample.db')\n",
    "cur = con.cursor()\n",
    "cur.execute(\"ALTER TABLE DEPARTMENT ADD COLUMN LOC TEXT;\")\n",
    "cur.close()\n",
    "con.close()"
   ]
  },
  {
   "cell_type": "code",
   "execution_count": 23,
   "id": "d6a46bdc",
   "metadata": {},
   "outputs": [],
   "source": [
    "import sqlite3\n",
    "con = sqlite3.connect('sample.db')\n",
    "cur = con.cursor()\n",
    "cur.execute(\"ALTER TABLE Department RENAME TO DEPT_DETAILS;\")\n",
    "cur.close()\n",
    "con.close()"
   ]
  },
  {
   "cell_type": "markdown",
   "id": "e587dd9a",
   "metadata": {},
   "source": [
    "### Drop a table"
   ]
  },
  {
   "cell_type": "code",
   "execution_count": 24,
   "id": "a34a5875",
   "metadata": {},
   "outputs": [],
   "source": [
    "con = sqlite3.connect('sample.db')\n",
    "cur = con.cursor()\n",
    "cur.execute(\"DROP TABLE DEPT_DETAILS;\")\n",
    "cur.close()\n",
    "con.close()"
   ]
  },
  {
   "cell_type": "code",
   "execution_count": null,
   "id": "d5208e50",
   "metadata": {},
   "outputs": [],
   "source": []
  }
 ],
 "metadata": {
  "kernelspec": {
   "display_name": "Python 3 (ipykernel)",
   "language": "python",
   "name": "python3"
  },
  "language_info": {
   "codemirror_mode": {
    "name": "ipython",
    "version": 3
   },
   "file_extension": ".py",
   "mimetype": "text/x-python",
   "name": "python",
   "nbconvert_exporter": "python",
   "pygments_lexer": "ipython3",
   "version": "3.9.13"
  }
 },
 "nbformat": 4,
 "nbformat_minor": 5
}
