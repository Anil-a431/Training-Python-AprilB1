{
 "cells": [
  {
   "cell_type": "code",
   "execution_count": 2,
   "id": "5943287b",
   "metadata": {},
   "outputs": [
    {
     "name": "stdout",
     "output_type": "stream",
     "text": [
      "100\n"
     ]
    },
    {
     "ename": "TypeError",
     "evalue": "addition() missing 2 required positional arguments: 'c' and 'd'",
     "output_type": "error",
     "traceback": [
      "\u001b[1;31m---------------------------------------------------------------------------\u001b[0m",
      "\u001b[1;31mTypeError\u001b[0m                                 Traceback (most recent call last)",
      "\u001b[1;32m~\\AppData\\Local\\Temp\\ipykernel_4052\\965125003.py\u001b[0m in \u001b[0;36m<module>\u001b[1;34m\u001b[0m\n\u001b[0;32m      7\u001b[0m     \u001b[0mprint\u001b[0m\u001b[1;33m(\u001b[0m\u001b[0ma\u001b[0m\u001b[1;33m+\u001b[0m\u001b[0mb\u001b[0m\u001b[1;33m+\u001b[0m\u001b[0mc\u001b[0m\u001b[1;33m+\u001b[0m\u001b[0md\u001b[0m\u001b[1;33m)\u001b[0m\u001b[1;33m\u001b[0m\u001b[1;33m\u001b[0m\u001b[0m\n\u001b[0;32m      8\u001b[0m \u001b[0maddition\u001b[0m\u001b[1;33m(\u001b[0m\u001b[1;36m10\u001b[0m\u001b[1;33m,\u001b[0m\u001b[1;36m20\u001b[0m\u001b[1;33m,\u001b[0m\u001b[1;36m30\u001b[0m\u001b[1;33m,\u001b[0m\u001b[1;36m40\u001b[0m\u001b[1;33m)\u001b[0m\u001b[1;33m\u001b[0m\u001b[1;33m\u001b[0m\u001b[0m\n\u001b[1;32m----> 9\u001b[1;33m \u001b[0maddition\u001b[0m\u001b[1;33m(\u001b[0m\u001b[1;36m10\u001b[0m\u001b[1;33m,\u001b[0m\u001b[1;36m20\u001b[0m\u001b[1;33m)\u001b[0m\u001b[1;33m\u001b[0m\u001b[1;33m\u001b[0m\u001b[0m\n\u001b[0m\u001b[0;32m     10\u001b[0m \u001b[0maddition\u001b[0m\u001b[1;33m(\u001b[0m\u001b[1;36m10\u001b[0m\u001b[1;33m,\u001b[0m\u001b[1;36m20\u001b[0m\u001b[1;33m,\u001b[0m\u001b[1;36m30\u001b[0m\u001b[1;33m)\u001b[0m\u001b[1;33m\u001b[0m\u001b[1;33m\u001b[0m\u001b[0m\n",
      "\u001b[1;31mTypeError\u001b[0m: addition() missing 2 required positional arguments: 'c' and 'd'"
     ]
    }
   ],
   "source": [
    "#Function loading\n",
    "def addition(a,b):\n",
    "    print(a+b)\n",
    "def addition(a,b,c):\n",
    "    print(a+b+c)\n",
    "def addition(a,b,c,d):\n",
    "    print(a+b+c+d)\n",
    "addition(10,20,30,40)\n",
    "addition(10,20)\n",
    "addition(10,20,30)"
   ]
  },
  {
   "cell_type": "code",
   "execution_count": 4,
   "id": "1c865097",
   "metadata": {},
   "outputs": [
    {
     "name": "stdout",
     "output_type": "stream",
     "text": [
      "100\n",
      "30\n",
      "260\n"
     ]
    }
   ],
   "source": [
    "#variable-length arguments ==> def arg list ==> Tuple\n",
    "def addition(*x):\n",
    "    s = 0\n",
    "    for i in x:\n",
    "        s += i\n",
    "    print(s)\n",
    "addition(10,20,30,40)\n",
    "addition(10,20)\n",
    "addition(10,20,30,30,40,50,80)"
   ]
  },
  {
   "cell_type": "code",
   "execution_count": 6,
   "id": "217c9943",
   "metadata": {},
   "outputs": [
    {
     "name": "stdout",
     "output_type": "stream",
     "text": [
      "100\n",
      "30\n",
      "260\n"
     ]
    }
   ],
   "source": [
    "def addition(*x):\n",
    "    print(sum(x))\n",
    "    \n",
    "addition(10,20,30,40)\n",
    "addition(10,20)\n",
    "addition(10,20,30,30,40,50,80)"
   ]
  },
  {
   "cell_type": "code",
   "execution_count": 10,
   "id": "40d7de00",
   "metadata": {},
   "outputs": [
    {
     "name": "stdout",
     "output_type": "stream",
     "text": [
      "abcxyz\n",
      "Abc123qweqwe\n",
      "12ASDFASDFG12345\n"
     ]
    }
   ],
   "source": [
    "def concat(*var):\n",
    "    print(\"\".join(var))\n",
    "\n",
    "concat(\"abc\",\"xyz\")\n",
    "concat(\"Abc\",\"123\",\"qweqwe\")\n",
    "concat(\"12\",\"ASDF\",\"ASDFG\",\"12345\")"
   ]
  },
  {
   "cell_type": "code",
   "execution_count": 7,
   "id": "65acc9b1",
   "metadata": {},
   "outputs": [
    {
     "name": "stdout",
     "output_type": "stream",
     "text": [
      "abcxyz\n"
     ]
    }
   ],
   "source": [
    "arg = (\"abc\",\"xyz\")\n",
    "s = \"\"\n",
    "for i in arg:\n",
    "    s += i\n",
    "print(s)"
   ]
  },
  {
   "cell_type": "code",
   "execution_count": 8,
   "id": "22b3c4ed",
   "metadata": {},
   "outputs": [
    {
     "data": {
      "text/plain": [
       "'abcxyz'"
      ]
     },
     "execution_count": 8,
     "metadata": {},
     "output_type": "execute_result"
    }
   ],
   "source": [
    "arg = (\"abc\",\"xyz\")\n",
    "\"\".join(arg)"
   ]
  },
  {
   "cell_type": "code",
   "execution_count": 12,
   "id": "67a5b0f3",
   "metadata": {},
   "outputs": [],
   "source": [
    "#Encapsulation ==> methods and var into a single unit --> class\n",
    "#private members ==> use __ before the name of the var or method\n",
    "class A:\n",
    "    __var = 100\n",
    "    def __display(self):\n",
    "        print(\"var value is:\",self.__var)"
   ]
  },
  {
   "cell_type": "code",
   "execution_count": 13,
   "id": "5f5e2d86",
   "metadata": {},
   "outputs": [],
   "source": [
    "a = A()"
   ]
  },
  {
   "cell_type": "code",
   "execution_count": 16,
   "id": "a2b561bc",
   "metadata": {},
   "outputs": [
    {
     "name": "stdout",
     "output_type": "stream",
     "text": [
      "var value is: 100\n"
     ]
    }
   ],
   "source": [
    "a._A__display()"
   ]
  },
  {
   "cell_type": "code",
   "execution_count": 17,
   "id": "82087eaa",
   "metadata": {},
   "outputs": [
    {
     "data": {
      "text/plain": [
       "100"
      ]
     },
     "execution_count": 17,
     "metadata": {},
     "output_type": "execute_result"
    }
   ],
   "source": [
    "a._A__var"
   ]
  },
  {
   "cell_type": "code",
   "execution_count": 33,
   "id": "c6f355dc",
   "metadata": {},
   "outputs": [],
   "source": [
    "#Abstraction ==> implementation details are hidden from the user\n",
    "from abc import ABC,abstractmethod\n",
    "class Animal(ABC):\n",
    "    @abstractmethod\n",
    "    def move(self):\n",
    "        pass\n",
    "    \n",
    "class Dog(Animal):\n",
    "    def move(self):\n",
    "        print(\"I can bark\")\n",
    "\n",
    "class Lion(Animal):\n",
    "    def move(self):\n",
    "        print(\"I can roar\")"
   ]
  },
  {
   "cell_type": "code",
   "execution_count": 34,
   "id": "3950845b",
   "metadata": {},
   "outputs": [
    {
     "ename": "TypeError",
     "evalue": "Can't instantiate abstract class Animal with abstract method move",
     "output_type": "error",
     "traceback": [
      "\u001b[1;31m---------------------------------------------------------------------------\u001b[0m",
      "\u001b[1;31mTypeError\u001b[0m                                 Traceback (most recent call last)",
      "\u001b[1;32m~\\AppData\\Local\\Temp\\ipykernel_4052\\2957033831.py\u001b[0m in \u001b[0;36m<module>\u001b[1;34m\u001b[0m\n\u001b[1;32m----> 1\u001b[1;33m \u001b[0ma\u001b[0m \u001b[1;33m=\u001b[0m \u001b[0mAnimal\u001b[0m\u001b[1;33m(\u001b[0m\u001b[1;33m)\u001b[0m\u001b[1;33m\u001b[0m\u001b[1;33m\u001b[0m\u001b[0m\n\u001b[0m",
      "\u001b[1;31mTypeError\u001b[0m: Can't instantiate abstract class Animal with abstract method move"
     ]
    }
   ],
   "source": [
    "a = Animal()"
   ]
  },
  {
   "cell_type": "code",
   "execution_count": 29,
   "id": "584617ac",
   "metadata": {},
   "outputs": [],
   "source": [
    "d = Dog()"
   ]
  },
  {
   "cell_type": "code",
   "execution_count": 30,
   "id": "1aa13d21",
   "metadata": {},
   "outputs": [
    {
     "name": "stdout",
     "output_type": "stream",
     "text": [
      "I can bark\n"
     ]
    }
   ],
   "source": [
    "d.move()"
   ]
  },
  {
   "cell_type": "code",
   "execution_count": 31,
   "id": "7c5b1746",
   "metadata": {},
   "outputs": [],
   "source": [
    "l = Lion()"
   ]
  },
  {
   "cell_type": "code",
   "execution_count": 32,
   "id": "16189fdb",
   "metadata": {},
   "outputs": [
    {
     "name": "stdout",
     "output_type": "stream",
     "text": [
      "I can roar\n"
     ]
    }
   ],
   "source": [
    "l.move()"
   ]
  },
  {
   "cell_type": "code",
   "execution_count": null,
   "id": "66c009b5",
   "metadata": {},
   "outputs": [],
   "source": []
  }
 ],
 "metadata": {
  "kernelspec": {
   "display_name": "Python 3 (ipykernel)",
   "language": "python",
   "name": "python3"
  },
  "language_info": {
   "codemirror_mode": {
    "name": "ipython",
    "version": 3
   },
   "file_extension": ".py",
   "mimetype": "text/x-python",
   "name": "python",
   "nbconvert_exporter": "python",
   "pygments_lexer": "ipython3",
   "version": "3.9.13"
  }
 },
 "nbformat": 4,
 "nbformat_minor": 5
}
